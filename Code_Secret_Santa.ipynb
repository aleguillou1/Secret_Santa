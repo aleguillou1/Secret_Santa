{
 "cells": [
  {
   "cell_type": "code",
   "execution_count": 17,
   "metadata": {},
   "outputs": [],
   "source": [
    "import os\n",
    "import random\n",
    "\n",
    "def assign_secret_santa(participants, output_directory):\n",
    "    # Assurez-vous que le nombre de participants est pair\n",
    "    if len(participants) % 2 != 0:\n",
    "        raise ValueError(\"Le nombre de participants doit être pair.\")\n",
    "\n",
    "    # Vérifier les exclusions / Vous pouvez enlever ou en ajouter , attention à bien mettre à jour la liste \"participants\" dans ce cas\n",
    "    exclusions = [(\"Personne1\", \"Personne2\"), (\"Personne3\", \"Personne4\"), (\"Personne5\", \"Personne6\")]\n",
    "\n",
    "    # Mélanger les participants\n",
    "    random.shuffle(participants)\n",
    "\n",
    "    # Associer chaque personne à son Secret Santa en évitant les exclusions\n",
    "    assignments = {}\n",
    "\n",
    "    for participant in participants:\n",
    "        # Retirer le participant de la liste des choix possibles\n",
    "        remaining_participants = [p for p in participants if p != participant and (participant, p) not in exclusions and (p, participant) not in exclusions]\n",
    "\n",
    "        if not remaining_participants:\n",
    "            raise ValueError(f\"Impossible de trouver un Secret Santa pour {participant}\")\n",
    "\n",
    "        # Sélectionner un Secret Santa parmi les choix possibles\n",
    "        secret_santa = random.choice(remaining_participants)\n",
    "        assignments[participant] = secret_santa\n",
    "\n",
    "        # Retirer le secret_santa de la liste des participants pour les futurs choix\n",
    "        participants.remove(secret_santa)\n",
    "\n",
    "    # Créer des fichiers texte avec les correspondances\n",
    "    for participant, secret_santa in assignments.items():\n",
    "        file_content = f\"Tu dois acheter un cadeau à : {secret_santa}.\\nJoyeux Noël !\"\n",
    "        file_path = os.path.join(output_directory, f\"{participant}_Secret_Santa.txt\")\n",
    "\n",
    "        with open(file_path, \"w\") as file:\n",
    "            file.write(file_content)\n",
    "\n",
    "# Liste des participants\n",
    "participants = [\"Personne1\", \"Personne2\" , \"Personne3\" , \"Personne4\" , \"Personne5\" , \"personne6\"]\n",
    "\n",
    "# Répertoire de sortie des fichiers texte\n",
    "output_directory = \"/Votre/dossier/de/sortie\"\n",
    "\n",
    "# Attribution des Secret Santas et création des fichiers texte\n",
    "assign_secret_santa(participants, output_directory)\n",
    "\n",
    "#Il est possible qu'il y ait nécéssité de relancer le code plusieurs fois avant d'avoir tous les fichiers txt avec tous les participants. Cela va être en fonction du nombre d'exlusion et du nombre de participant\n"
   ]
  }
 ],
 "metadata": {
  "kernelspec": {
   "display_name": "iota2-env",
   "language": "python",
   "name": "python3"
  },
  "language_info": {
   "codemirror_mode": {
    "name": "ipython",
    "version": 3
   },
   "file_extension": ".py",
   "mimetype": "text/x-python",
   "name": "python",
   "nbconvert_exporter": "python",
   "pygments_lexer": "ipython3",
   "version": "3.9.15"
  }
 },
 "nbformat": 4,
 "nbformat_minor": 2
}
